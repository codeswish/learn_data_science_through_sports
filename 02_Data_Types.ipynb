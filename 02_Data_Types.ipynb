{
 "cells": [
  {
   "cell_type": "markdown",
   "id": "002c9e59",
   "metadata": {},
   "source": [
    "# Data Types in Python"
   ]
  },
  {
   "cell_type": "markdown",
   "id": "e06dba20",
   "metadata": {},
   "source": [
    "As a refresher, we can extract the data type of a variable using type()"
   ]
  },
  {
   "cell_type": "code",
   "execution_count": 1,
   "id": "7690409c",
   "metadata": {},
   "outputs": [
    {
     "name": "stdout",
     "output_type": "stream",
     "text": [
      "<class 'int'>\n"
     ]
    }
   ],
   "source": [
    "points = 17\n",
    "print(type(points))"
   ]
  },
  {
   "cell_type": "markdown",
   "id": "889cb585",
   "metadata": {},
   "source": [
    "## Common Data Types (And sports related examples)"
   ]
  },
  {
   "cell_type": "code",
   "execution_count": 5,
   "id": "ab2d157d",
   "metadata": {},
   "outputs": [],
   "source": [
    "#string (str)\n",
    "player = \"Luke Doncic\""
   ]
  },
  {
   "cell_type": "code",
   "execution_count": 6,
   "id": "c2feecdd",
   "metadata": {},
   "outputs": [],
   "source": [
    "# integer (int)\n",
    "points_scored = 48"
   ]
  },
  {
   "cell_type": "code",
   "execution_count": 8,
   "id": "cb6a8f0e",
   "metadata": {},
   "outputs": [],
   "source": [
    "#float\n",
    "ppg = 27.8"
   ]
  },
  {
   "cell_type": "code",
   "execution_count": 9,
   "id": "8e6b080c",
   "metadata": {},
   "outputs": [],
   "source": [
    "#list\n",
    "opponents = [\"New Orleans\",\"Los Angeles\",\"Chicago\"]"
   ]
  },
  {
   "cell_type": "code",
   "execution_count": 10,
   "id": "d2a83a2b",
   "metadata": {},
   "outputs": [],
   "source": [
    "#tuple\n",
    "opponents = (\"New Orleans\",\"Los Angeles\",\"Chicago\")"
   ]
  },
  {
   "cell_type": "code",
   "execution_count": 14,
   "id": "997d5ca8",
   "metadata": {},
   "outputs": [],
   "source": [
    "#range\n",
    "shooting_range = range(30)"
   ]
  },
  {
   "cell_type": "code",
   "execution_count": 17,
   "id": "753bbb5d",
   "metadata": {},
   "outputs": [],
   "source": [
    "#dictionary (dict)\n",
    "players_ppg = {\"Player\": \"Klay Thompson\", \"PPG\": 37}"
   ]
  },
  {
   "cell_type": "code",
   "execution_count": 18,
   "id": "9484b12f",
   "metadata": {},
   "outputs": [],
   "source": [
    "#set (essentially a list with unique variables (no repeats))\n",
    "opponents = {\"New Orleans\",\"Los Angeles\",\"Chicago\"}"
   ]
  },
  {
   "cell_type": "code",
   "execution_count": 19,
   "id": "a5495dc0",
   "metadata": {},
   "outputs": [],
   "source": [
    "#Boolean (bool)\n",
    "win = True"
   ]
  },
  {
   "cell_type": "markdown",
   "id": "bd74b929",
   "metadata": {},
   "source": [
    "## Helpful Tips"
   ]
  },
  {
   "cell_type": "markdown",
   "id": "31ccdb24",
   "metadata": {},
   "source": [
    "In the above, the definition of a set is basically a list with no duplicates. So how would setting a list to a set change the ouput? We have a list of the next 4 games and opponents, but we only want to know which teams we are playing regardless of how many times we play each."
   ]
  },
  {
   "cell_type": "code",
   "execution_count": 1,
   "id": "3388548d",
   "metadata": {
    "tags": []
   },
   "outputs": [
    {
     "data": {
      "text/plain": [
       "{'Chicago', 'Los Angeles', 'New Orleans'}"
      ]
     },
     "execution_count": 1,
     "metadata": {},
     "output_type": "execute_result"
    }
   ],
   "source": [
    "opponents = [\"New Orleans\",\"Los Angeles\",\"Chicago\", \"New Orleans\"]\n",
    "set(opponents)"
   ]
  },
  {
   "cell_type": "markdown",
   "id": "1c8e74b8",
   "metadata": {},
   "source": [
    "The duplicate New Orleans was removed!"
   ]
  },
  {
   "cell_type": "markdown",
   "id": "7b6bc6a4",
   "metadata": {},
   "source": [
    "When dealing with stats where the content after the decimal is relevant (PPG, APG, RPG, etc), make sure to use float type! Casting to integer will cause a loss of information."
   ]
  },
  {
   "cell_type": "code",
   "execution_count": 22,
   "id": "28225dca",
   "metadata": {},
   "outputs": [
    {
     "data": {
      "text/plain": [
       "28"
      ]
     },
     "execution_count": 22,
     "metadata": {},
     "output_type": "execute_result"
    }
   ],
   "source": [
    "ppg = 28.9\n",
    "int(ppg)"
   ]
  },
  {
   "cell_type": "markdown",
   "id": "2a3934c7",
   "metadata": {},
   "source": [
    "With integer we lost the numbers after the decimal! And as we know a .9 difference in PPG is quite substantial. We can recover it by re-setting it to a float type"
   ]
  },
  {
   "cell_type": "code",
   "execution_count": 24,
   "id": "05014e57",
   "metadata": {},
   "outputs": [
    {
     "data": {
      "text/plain": [
       "28.9"
      ]
     },
     "execution_count": 24,
     "metadata": {},
     "output_type": "execute_result"
    }
   ],
   "source": [
    "float(ppg)"
   ]
  },
  {
   "cell_type": "markdown",
   "id": "a8418812",
   "metadata": {},
   "source": [
    "Key difference between lists and tuples? Tuples are what we call \"immutable\" (cannot be changed). Whereas you can change a list after it is defined."
   ]
  },
  {
   "cell_type": "code",
   "execution_count": 25,
   "id": "08784488",
   "metadata": {},
   "outputs": [
    {
     "data": {
      "text/plain": [
       "['New Orleans', 'Los Angeles', 'Chicago', 'New Orleans', 'Sacramento']"
      ]
     },
     "execution_count": 25,
     "metadata": {},
     "output_type": "execute_result"
    }
   ],
   "source": [
    "opponents = [\"New Orleans\",\"Los Angeles\",\"Chicago\", \"New Orleans\"]\n",
    "# add opponent\n",
    "new_opponent = \"Sacramento\"\n",
    "opponents.append(new_opponent)\n",
    "opponents"
   ]
  },
  {
   "cell_type": "markdown",
   "id": "3b34e26f",
   "metadata": {},
   "source": [
    "Now with a tuple of the same content"
   ]
  },
  {
   "cell_type": "code",
   "execution_count": 27,
   "id": "93ccfc68",
   "metadata": {},
   "outputs": [
    {
     "ename": "AttributeError",
     "evalue": "'tuple' object has no attribute 'append'",
     "output_type": "error",
     "traceback": [
      "\u001b[1;31m---------------------------------------------------------------------------\u001b[0m",
      "\u001b[1;31mAttributeError\u001b[0m                            Traceback (most recent call last)",
      "\u001b[1;32m~\\AppData\\Local\\Temp\\ipykernel_8964\\2242160857.py\u001b[0m in \u001b[0;36m<module>\u001b[1;34m\u001b[0m\n\u001b[0;32m      2\u001b[0m \u001b[1;31m# add opponent\u001b[0m\u001b[1;33m\u001b[0m\u001b[1;33m\u001b[0m\u001b[0m\n\u001b[0;32m      3\u001b[0m \u001b[0mnew_opponent\u001b[0m \u001b[1;33m=\u001b[0m \u001b[1;34m\"Sacramento\"\u001b[0m\u001b[1;33m\u001b[0m\u001b[1;33m\u001b[0m\u001b[0m\n\u001b[1;32m----> 4\u001b[1;33m \u001b[0mopponents\u001b[0m\u001b[1;33m.\u001b[0m\u001b[0mappend\u001b[0m\u001b[1;33m(\u001b[0m\u001b[0mnew_opponent\u001b[0m\u001b[1;33m)\u001b[0m\u001b[1;33m\u001b[0m\u001b[1;33m\u001b[0m\u001b[0m\n\u001b[0m\u001b[0;32m      5\u001b[0m \u001b[0mopponents\u001b[0m\u001b[1;33m\u001b[0m\u001b[1;33m\u001b[0m\u001b[0m\n",
      "\u001b[1;31mAttributeError\u001b[0m: 'tuple' object has no attribute 'append'"
     ]
    }
   ],
   "source": [
    "opponents = (\"New Orleans\",\"Los Angeles\",\"Chicago\", \"New Orleans\")\n",
    "# add opponent\n",
    "new_opponent = \"Sacramento\"\n",
    "opponents.append(new_opponent)\n",
    "opponents"
   ]
  },
  {
   "cell_type": "code",
   "execution_count": null,
   "id": "4018203a",
   "metadata": {},
   "outputs": [],
   "source": []
  }
 ],
 "metadata": {
  "kernelspec": {
   "display_name": "learn_data_science_through_sports",
   "language": "python",
   "name": "learn_data_science_through_sports"
  },
  "language_info": {
   "codemirror_mode": {
    "name": "ipython",
    "version": 3
   },
   "file_extension": ".py",
   "mimetype": "text/x-python",
   "name": "python",
   "nbconvert_exporter": "python",
   "pygments_lexer": "ipython3",
   "version": "3.11.1"
  }
 },
 "nbformat": 4,
 "nbformat_minor": 5
}
