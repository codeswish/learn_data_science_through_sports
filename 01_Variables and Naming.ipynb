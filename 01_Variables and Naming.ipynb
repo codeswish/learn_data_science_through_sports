{
 "cells": [
  {
   "cell_type": "markdown",
   "id": "5fb4f21c",
   "metadata": {},
   "source": [
    "#  Python Variables and Naming"
   ]
  },
  {
   "cell_type": "markdown",
   "id": "7677483a",
   "metadata": {},
   "source": [
    "What is a variable? Essentially anything you want it to be! Formally, it is a container for storing data values.\n",
    "\n",
    "In Python, variables are not created through command declaration, they are created a value is first assigned to it."
   ]
  },
  {
   "cell_type": "code",
   "execution_count": 1,
   "id": "4b782965",
   "metadata": {},
   "outputs": [
    {
     "name": "stdout",
     "output_type": "stream",
     "text": [
      "Lebron James\n",
      "36\n",
      "12\n"
     ]
    }
   ],
   "source": [
    "# Let's take a player, points, and assists on a given night and assignt them to variables\n",
    "player = \"Lebron James\"\n",
    "points = 36\n",
    "assists = 12\n",
    "print(player)\n",
    "print(points)\n",
    "print(assists)"
   ]
  },
  {
   "cell_type": "markdown",
   "id": "c69b7fb4",
   "metadata": {},
   "source": [
    "Part of what makes Python unique is that variables do not need to be declared as a certain type before being created. And they can even be changed after they are created."
   ]
  },
  {
   "cell_type": "markdown",
   "id": "93672843",
   "metadata": {},
   "source": [
    "## Casting"
   ]
  },
  {
   "cell_type": "markdown",
   "id": "555a143f",
   "metadata": {},
   "source": [
    "You can specify the data type of a variable upon creation. Print each of these separately to view results."
   ]
  },
  {
   "cell_type": "code",
   "execution_count": 2,
   "id": "89980df0",
   "metadata": {},
   "outputs": [],
   "source": [
    "points = str(36) # points will be '36'\n",
    "points = int(36) # points will be 36\n",
    "points = float(36) # points will be 36.0"
   ]
  },
  {
   "cell_type": "markdown",
   "id": "2351b2a8",
   "metadata": {},
   "source": [
    "## Extract the data type"
   ]
  },
  {
   "cell_type": "markdown",
   "id": "68654c9f",
   "metadata": {},
   "source": [
    "Not sure which type of data a variable is? No problem, use type()"
   ]
  },
  {
   "cell_type": "code",
   "execution_count": 3,
   "id": "3609e88a",
   "metadata": {},
   "outputs": [
    {
     "name": "stdout",
     "output_type": "stream",
     "text": [
      "<class 'str'>\n",
      "<class 'int'>\n",
      "<class 'int'>\n"
     ]
    }
   ],
   "source": [
    "player = \"Lebron James\"\n",
    "points = 36\n",
    "assists = 12\n",
    "print(type(player))\n",
    "print(type(points))\n",
    "print(type(assists))"
   ]
  },
  {
   "cell_type": "markdown",
   "id": "664b4477",
   "metadata": {},
   "source": [
    "Note: Strings can be declared with single or double quotes"
   ]
  },
  {
   "cell_type": "code",
   "execution_count": 4,
   "id": "ba3a01e2",
   "metadata": {},
   "outputs": [],
   "source": [
    "player = \"Lebron James\"\n",
    "#is the same as\n",
    "player = 'Lebron James'"
   ]
  },
  {
   "cell_type": "markdown",
   "id": "0c9db886",
   "metadata": {},
   "source": [
    "## Case Sensitivity"
   ]
  },
  {
   "cell_type": "markdown",
   "id": "83f90bc0",
   "metadata": {},
   "source": [
    "When creating variables, Points and points are different and will not overwrite each other!"
   ]
  },
  {
   "cell_type": "code",
   "execution_count": 5,
   "id": "cfa13429",
   "metadata": {},
   "outputs": [
    {
     "name": "stdout",
     "output_type": "stream",
     "text": [
      "32\n",
      "28\n"
     ]
    }
   ],
   "source": [
    "Points = 32\n",
    "points = 28\n",
    "print(Points)\n",
    "print(points)"
   ]
  },
  {
   "cell_type": "markdown",
   "id": "6f9ffa7d",
   "metadata": {},
   "source": [
    "## Assign more than 1 variable at once"
   ]
  },
  {
   "cell_type": "markdown",
   "id": "cc18ea4e",
   "metadata": {},
   "source": [
    "We know three players from tonight's game that we want to store. Do we really want to define these in 3 separate lines... NO!"
   ]
  },
  {
   "cell_type": "code",
   "execution_count": 6,
   "id": "a2ce1b8b",
   "metadata": {},
   "outputs": [
    {
     "name": "stdout",
     "output_type": "stream",
     "text": [
      "Russell Westbrook\n",
      "Anthony Davis\n",
      "Lebron James\n"
     ]
    }
   ],
   "source": [
    "player1, player2, player3 = \"Russell Westbrook\", \"Anthony Davis\", \"Lebron James\"\n",
    "print(player1)\n",
    "print(player2)\n",
    "print(player3)"
   ]
  },
  {
   "cell_type": "markdown",
   "id": "f6f6f0ff",
   "metadata": {},
   "source": [
    "You can also assign one value to multiple variables. Say 5 players scored the same amount of points, why define it 5 times?"
   ]
  },
  {
   "cell_type": "code",
   "execution_count": 8,
   "id": "64b4322c",
   "metadata": {},
   "outputs": [
    {
     "name": "stdout",
     "output_type": "stream",
     "text": [
      "36\n",
      "36\n",
      "36\n",
      "36\n",
      "36\n"
     ]
    }
   ],
   "source": [
    "lebron_points = lillard_points = kawhi_points = zion_points = lamelo_points = 36\n",
    "print(lebron_points)\n",
    "print(lillard_points)\n",
    "print(kawhi_points)\n",
    "print(zion_points)\n",
    "print(lamelo_points)"
   ]
  },
  {
   "cell_type": "markdown",
   "id": "d29d98a1",
   "metadata": {},
   "source": [
    "## Unpack From a list, tuple, etc"
   ]
  },
  {
   "cell_type": "markdown",
   "id": "ae381596",
   "metadata": {},
   "source": [
    "You will become with different data types such as lists and tuples in the coming tutorials. For now, the important thing to note here is that you can extract values from a group of values and this is called \"unpacking\".\n"
   ]
  },
  {
   "cell_type": "code",
   "execution_count": 12,
   "id": "03f866e2",
   "metadata": {},
   "outputs": [
    {
     "name": "stdout",
     "output_type": "stream",
     "text": [
      "22\n",
      "24\n",
      "28\n",
      "38\n",
      "24\n",
      "46\n"
     ]
    }
   ],
   "source": [
    "#Unpack a list\n",
    "points_scored = [22,24,28,38,24,46]\n",
    "game1, game2, game3, game4, game5, game6 = points_scored\n",
    "print(game1)\n",
    "print(game2)\n",
    "print(game3)\n",
    "print(game4)\n",
    "print(game5)\n",
    "print(game6)"
   ]
  },
  {
   "cell_type": "markdown",
   "id": "fd36e785",
   "metadata": {},
   "source": [
    "## What Else can be done with the print function?"
   ]
  },
  {
   "cell_type": "markdown",
   "id": "f0491333",
   "metadata": {},
   "source": [
    "We have seen the basic function of the print() function. Now, let's expand a bit of its capabilities"
   ]
  },
  {
   "cell_type": "code",
   "execution_count": 15,
   "id": "0be17329",
   "metadata": {},
   "outputs": [
    {
     "name": "stdout",
     "output_type": "stream",
     "text": [
      "Stephen Curry Golden State Point Guard\n"
     ]
    }
   ],
   "source": [
    "player = \"Stephen Curry\"\n",
    "team = \"Golden State\"\n",
    "position = \"Point Guard\"\n",
    "print(player,team,position)"
   ]
  },
  {
   "cell_type": "markdown",
   "id": "f8e2fc5b",
   "metadata": {},
   "source": [
    "A slight modification with \"+\"'s being used. (Notice the trailing spaces after each string so that the string elements aren't smashed together) Try without them!"
   ]
  },
  {
   "cell_type": "code",
   "execution_count": null,
   "id": "d72acd37",
   "metadata": {},
   "outputs": [],
   "source": [
    "player = \"Stephen Curry \"\n",
    "team = \"Golden State \"\n",
    "position = \"Point Guard\"\n",
    "print(player+team+position)"
   ]
  },
  {
   "cell_type": "markdown",
   "id": "13d1bbbd",
   "metadata": {},
   "source": [
    "Now because Pyhton can assume data types, you can run this same type of print statement with numbers and let's see what happens!"
   ]
  },
  {
   "cell_type": "code",
   "execution_count": 19,
   "id": "2e54eedc",
   "metadata": {},
   "outputs": [
    {
     "name": "stdout",
     "output_type": "stream",
     "text": [
      "64\n"
     ]
    }
   ],
   "source": [
    "points_game_1 = 30\n",
    "points_game_2 = 34\n",
    "print(points_game_1+points_game_2)"
   ]
  },
  {
   "cell_type": "markdown",
   "id": "023ca60b",
   "metadata": {},
   "source": [
    "Note: You cannot add an integer and a string the same was as above (Shown below)"
   ]
  },
  {
   "cell_type": "code",
   "execution_count": 20,
   "id": "13e45abd",
   "metadata": {},
   "outputs": [
    {
     "ename": "TypeError",
     "evalue": "can only concatenate str (not \"int\") to str",
     "output_type": "error",
     "traceback": [
      "\u001b[1;31m---------------------------------------------------------------------------\u001b[0m",
      "\u001b[1;31mTypeError\u001b[0m                                 Traceback (most recent call last)",
      "\u001b[1;32m~\\AppData\\Local\\Temp\\ipykernel_4332\\731644021.py\u001b[0m in \u001b[0;36m<module>\u001b[1;34m\u001b[0m\n\u001b[0;32m      1\u001b[0m \u001b[0mplayer\u001b[0m \u001b[1;33m=\u001b[0m \u001b[1;34m\"Stephen Curry\"\u001b[0m\u001b[1;33m\u001b[0m\u001b[1;33m\u001b[0m\u001b[0m\n\u001b[0;32m      2\u001b[0m \u001b[0mpoints\u001b[0m \u001b[1;33m=\u001b[0m \u001b[1;36m38\u001b[0m\u001b[1;33m\u001b[0m\u001b[1;33m\u001b[0m\u001b[0m\n\u001b[1;32m----> 3\u001b[1;33m \u001b[0mprint\u001b[0m\u001b[1;33m(\u001b[0m\u001b[0mplayer\u001b[0m \u001b[1;33m+\u001b[0m \u001b[0mpoints\u001b[0m\u001b[1;33m)\u001b[0m\u001b[1;33m\u001b[0m\u001b[1;33m\u001b[0m\u001b[0m\n\u001b[0m",
      "\u001b[1;31mTypeError\u001b[0m: can only concatenate str (not \"int\") to str"
     ]
    }
   ],
   "source": [
    "player = \"Stephen Curry\"\n",
    "points = 38\n",
    "print(player + points)"
   ]
  },
  {
   "cell_type": "markdown",
   "id": "51781c14",
   "metadata": {},
   "source": [
    "You now have an introduction to some data types in Python and some relevant use cases in the sports world!"
   ]
  }
 ],
 "metadata": {
  "kernelspec": {
   "display_name": "Python 3 (ipykernel)",
   "language": "python",
   "name": "python3"
  },
  "language_info": {
   "codemirror_mode": {
    "name": "ipython",
    "version": 3
   },
   "file_extension": ".py",
   "mimetype": "text/x-python",
   "name": "python",
   "nbconvert_exporter": "python",
   "pygments_lexer": "ipython3",
   "version": "3.11.1"
  }
 },
 "nbformat": 4,
 "nbformat_minor": 5
}
