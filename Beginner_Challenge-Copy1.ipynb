{
 "cells": [
  {
   "cell_type": "markdown",
   "id": "1cb13263",
   "metadata": {},
   "source": [
    "# Rookie Challenge"
   ]
  },
  {
   "cell_type": "markdown",
   "id": "e6156a3f",
   "metadata": {},
   "source": [
    "Now that we have some basic knowledge down, some useful tools in our toolbox, and have worked through some sports usecases, let's try a challenge!\n",
    "\n",
    "I recommend opening a new notebook without the answers and use this notebook as a \"Solution Manual\""
   ]
  },
  {
   "cell_type": "markdown",
   "id": "5798675f",
   "metadata": {},
   "source": [
    "## Problem Statement:"
   ]
  },
  {
   "cell_type": "markdown",
   "id": "c0247dcf",
   "metadata": {},
   "source": [
    "You are given several lists of data containing the information of several NFL QB prospects. The lists contain relevant NFL combine information including 40 yard dash times, bench press reps, and other measurements. \n",
    "\n",
    "Your job is to combine all of these lists into a Dataframe and then create a function that prints out a statement with each player and all of their data. Afterwards, create a list of players who's 40 times are under 4.6 seconds. This last part is quite a challenge at this point but DO NOT get discouraged and give it an honest effort before referring to the solution."
   ]
  },
  {
   "cell_type": "markdown",
   "id": "bdb29aec",
   "metadata": {},
   "source": [
    "### Here are the lists, create a DataFrame"
   ]
  },
  {
   "cell_type": "code",
   "execution_count": 7,
   "id": "573769d3",
   "metadata": {},
   "outputs": [],
   "source": [
    "import pandas as pd\n",
    "import numpy as np\n",
    "\n",
    "#GET USED TO THESE IMPORTS =)\n",
    "\n",
    "players = ['Trevor Lawrence','Mac Jones','Justin Fields','Zach Wilson','Trey Lance']\n",
    "forty_times = [4.78,4.83,4.46,4.84,4.56]\n",
    "bench_reps = [8,6,12,10,14]\n",
    "height_inches = [78,75,75,74,76]\n",
    "weight_pounds = [220,214,228,209,226]"
   ]
  },
  {
   "cell_type": "markdown",
   "id": "3e11810c",
   "metadata": {},
   "source": [
    "NOW TRY FOR YOURSELF BEFORE PROCEEDING HERE"
   ]
  },
  {
   "cell_type": "code",
   "execution_count": 10,
   "id": "51065184",
   "metadata": {},
   "outputs": [
    {
     "data": {
      "text/html": [
       "<div>\n",
       "<style scoped>\n",
       "    .dataframe tbody tr th:only-of-type {\n",
       "        vertical-align: middle;\n",
       "    }\n",
       "\n",
       "    .dataframe tbody tr th {\n",
       "        vertical-align: top;\n",
       "    }\n",
       "\n",
       "    .dataframe thead th {\n",
       "        text-align: right;\n",
       "    }\n",
       "</style>\n",
       "<table border=\"1\" class=\"dataframe\">\n",
       "  <thead>\n",
       "    <tr style=\"text-align: right;\">\n",
       "      <th></th>\n",
       "      <th>player</th>\n",
       "      <th>40_time</th>\n",
       "      <th>bench_reps</th>\n",
       "      <th>height</th>\n",
       "      <th>weight</th>\n",
       "    </tr>\n",
       "  </thead>\n",
       "  <tbody>\n",
       "    <tr>\n",
       "      <th>0</th>\n",
       "      <td>Trevor Lawrence</td>\n",
       "      <td>4.78</td>\n",
       "      <td>8</td>\n",
       "      <td>78</td>\n",
       "      <td>220</td>\n",
       "    </tr>\n",
       "    <tr>\n",
       "      <th>1</th>\n",
       "      <td>Mac Jones</td>\n",
       "      <td>4.83</td>\n",
       "      <td>6</td>\n",
       "      <td>75</td>\n",
       "      <td>214</td>\n",
       "    </tr>\n",
       "    <tr>\n",
       "      <th>2</th>\n",
       "      <td>Justin Fields</td>\n",
       "      <td>4.46</td>\n",
       "      <td>12</td>\n",
       "      <td>75</td>\n",
       "      <td>228</td>\n",
       "    </tr>\n",
       "    <tr>\n",
       "      <th>3</th>\n",
       "      <td>Zach Wilson</td>\n",
       "      <td>4.84</td>\n",
       "      <td>10</td>\n",
       "      <td>74</td>\n",
       "      <td>209</td>\n",
       "    </tr>\n",
       "    <tr>\n",
       "      <th>4</th>\n",
       "      <td>Trey Lance</td>\n",
       "      <td>4.56</td>\n",
       "      <td>14</td>\n",
       "      <td>76</td>\n",
       "      <td>226</td>\n",
       "    </tr>\n",
       "  </tbody>\n",
       "</table>\n",
       "</div>"
      ],
      "text/plain": [
       "            player  40_time  bench_reps  height  weight\n",
       "0  Trevor Lawrence     4.78           8      78     220\n",
       "1        Mac Jones     4.83           6      75     214\n",
       "2    Justin Fields     4.46          12      75     228\n",
       "3      Zach Wilson     4.84          10      74     209\n",
       "4       Trey Lance     4.56          14      76     226"
      ]
     },
     "execution_count": 10,
     "metadata": {},
     "output_type": "execute_result"
    }
   ],
   "source": [
    "combine_dict = {'player': players, '40_time': forty_times,'bench_reps': bench_reps, 'height': height_inches,'weight': weight_pounds}\n",
    "dataframe = pd.DataFrame(combine_dict)\n",
    "dataframe"
   ]
  },
  {
   "cell_type": "markdown",
   "id": "3c72e994",
   "metadata": {},
   "source": [
    "### Let's use some tools we know!"
   ]
  },
  {
   "cell_type": "markdown",
   "id": "76138238",
   "metadata": {},
   "source": [
    "Let's first create a function"
   ]
  },
  {
   "cell_type": "code",
   "execution_count": 16,
   "id": "13351950",
   "metadata": {},
   "outputs": [],
   "source": [
    "def combine_printer(player,forty_time,bench_reps,height,weight):\n",
    "    print(f\"Player: {player}, 40 Time: {forty_time}, Bench Reps: {bench_reps}, Height: {height}, Weight: {weight}\")"
   ]
  },
  {
   "cell_type": "markdown",
   "id": "437c1e3c",
   "metadata": {},
   "source": [
    "Let's bake it into a for loop!"
   ]
  },
  {
   "cell_type": "code",
   "execution_count": 17,
   "id": "fd453995",
   "metadata": {},
   "outputs": [
    {
     "name": "stdout",
     "output_type": "stream",
     "text": [
      "Player: Trevor Lawrence, 40 Time: 4.78, Bench Reps: 8, Height: 78, Weight: 220\n",
      "Player: Mac Jones, 40 Time: 4.83, Bench Reps: 6, Height: 75, Weight: 214\n",
      "Player: Justin Fields, 40 Time: 4.46, Bench Reps: 12, Height: 75, Weight: 228\n",
      "Player: Zach Wilson, 40 Time: 4.84, Bench Reps: 10, Height: 74, Weight: 209\n",
      "Player: Trey Lance, 40 Time: 4.56, Bench Reps: 14, Height: 76, Weight: 226\n"
     ]
    }
   ],
   "source": [
    "for index, row in dataframe.iterrows():\n",
    "    combine_printer(row['player'],row['40_time'],row['bench_reps'],row['height'],row['weight'])"
   ]
  },
  {
   "cell_type": "markdown",
   "id": "a68334f4",
   "metadata": {},
   "source": [
    "### Extract Players with <4.6 40 times"
   ]
  },
  {
   "cell_type": "code",
   "execution_count": 20,
   "id": "e8176e74",
   "metadata": {},
   "outputs": [
    {
     "data": {
      "text/plain": [
       "['Justin Fields', 'Trey Lance']"
      ]
     },
     "execution_count": 20,
     "metadata": {},
     "output_type": "execute_result"
    }
   ],
   "source": [
    "fast_players=[]\n",
    "for index, row in dataframe.iterrows():\n",
    "    if row['40_time'] < 4.6:\n",
    "        fast_players.append(row['player'])\n",
    "        \n",
    "fast_players"
   ]
  },
  {
   "cell_type": "markdown",
   "id": "2bd3beb4",
   "metadata": {},
   "source": [
    "Ahh the power of a for loop with a nested if/else statement! You will find a lot more ways to use this logic in the future :)"
   ]
  },
  {
   "cell_type": "code",
   "execution_count": null,
   "id": "2d8ff3d8",
   "metadata": {},
   "outputs": [],
   "source": []
  }
 ],
 "metadata": {
  "kernelspec": {
   "display_name": "Python 3 (ipykernel)",
   "language": "python",
   "name": "python3"
  },
  "language_info": {
   "codemirror_mode": {
    "name": "ipython",
    "version": 3
   },
   "file_extension": ".py",
   "mimetype": "text/x-python",
   "name": "python",
   "nbconvert_exporter": "python",
   "pygments_lexer": "ipython3",
   "version": "3.11.1"
  }
 },
 "nbformat": 4,
 "nbformat_minor": 5
}
